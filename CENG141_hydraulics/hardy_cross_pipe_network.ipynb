








<!DOCTYPE html>
<html lang="en">

<head>
  <meta charset="utf-8">
  <title>Jupyter Notebook Viewer</title>
  <meta name="viewport" content="width=device-width, initial-scale=1.0">
  <meta name="description" content="">
  <meta name="author" content="">
  
  <meta name="robots" content="noindex,nofollow">
  

  <!--NEW RELIC Start Perf Measurement-->
  
  <!--NREND-->

  <!-- Le styles -->
  <script type="text/javascript">
//<![CDATA[
try{if (!window.CloudFlare) {var CloudFlare=[{verbose:0,p:0,byc:0,owlid:"cf",bag2:1,mirage2:0,oracle:0,paths:{cloudflare:"/cdn-cgi/nexp/dok3v=1613a3a185/"},atok:"1ccd34b352d97d2d544fac0ec3a2b9bf",petok:"1985c8bbb3fcd3f5c4b0d3780b2834ec8227293e-1487192991-1800",zone:"jupyter.org",rocket:"0",apps:{"ga_key":{"ua":"UA-52617120-5","ga_bs":"2"}}}];!function(a,b){a=document.createElement("script"),b=document.getElementsByTagName("script")[0],a.async=!0,a.src="//ajax.cloudflare.com/cdn-cgi/nexp/dok3v=f2befc48d1/cloudflare.min.js",b.parentNode.insertBefore(a,b)}()}}catch(e){};
//]]>
</script>
<link href="/static/build/styles.css?v=c18d49652a516277e15114bbd447f1c1" rel="stylesheet">

  <!-- Le HTML5 shim, for IE6-8 support of HTML5 elements -->
  <!--[if lt IE 9]>
    <script src="http://html5shim.googlecode.com/svn/trunk/html5.js"></script>
  <![endif]-->

  <!-- Le fav and touch icons -->
  <link rel="shortcut icon" href="/static/ico/ipynb_icon_16x16.png">
  <link rel="apple-touch-icon-precomposed" sizes="144x144"
        href="/static/ico/apple-touch-icon-144-precomposed.png?v=5a3c9ede93e2a8b8ea9e3f8f3da1a905">
  <link rel="apple-touch-icon-precomposed" sizes="114x114"
        href="/static/ico/apple-touch-icon-114-precomposed.png?v=45d86fc8f24dc00638035e1dd7a6d898">
  <link rel="apple-touch-icon-precomposed" sizes="72x72"
        href="/static/ico/apple-touch-icon-72-precomposed.png?v=540b5eb0f3cfd25f1439d1c9bd30e15f">
  <link rel="apple-touch-icon-precomposed"
        href="/static/ico/apple-touch-icon-57-precomposed.png?v=225f0590e187e1458625654f10a28f56">
  
  

  

  
  <meta name="twitter:card" content="summary">
  <meta name="twitter:title" content="Notebook on nbviewer">
  <meta name="twitter:description" content="Check out this Jupyter notebook!">

  
  <meta name="twitter:domain" content="nbviewer.ipython.org">
  <meta name="twitter:image:src" content="http://ipython.org/ipython-doc/dev/_images/ipynb_icon_128x128.png">

  
    <link href="/static/build/notebook.css?v=f5b9901b9b1ce080900a843637976afe" rel="stylesheet">
  

  

  
    <script src="https://cdn.mathjax.org/mathjax/latest/MathJax.js?config=TeX-AMS_HTML" type="text/javascript">
    </script>
    <script type="text/javascript">
      init_mathjax = function() {
        if (window.MathJax) {
          // MathJax loaded
          MathJax.Hub.Config({
            TeX: {
              equationNumbers: {
                autoNumber: "AMS",
                useLabelIds: true
              }
            },
            tex2jax: {
              inlineMath: [ ['$','$'], ["\\(","\\)"] ],
              displayMath: [ ['$$','$$'], ["\\[","\\]"] ],
              processEscapes: true,
              processEnvironments: true
            },
            displayAlign: 'center',
            "HTML-CSS": {
              styles: {'.MathJax_Display': {"margin": 0}},
              linebreaks: { automatic: true }
            }
          });
          MathJax.Hub.Queue(["Typeset", MathJax.Hub]);
        }
      }
      init_mathjax();
    </script>
  

<script type="text/javascript">
/* <![CDATA[ */
var _gaq = _gaq || [];
_gaq.push(['_setAccount', 'UA-52617120-5']);
_gaq.push(['_trackPageview']);

(function() {
var ga = document.createElement('script'); ga.type = 'text/javascript'; ga.async = true;
ga.src = ('https:' == document.location.protocol ? 'https://ssl' : 'http://www') + '.google-analytics.com/ga.js';
var s = document.getElementsByTagName('script')[0]; s.parentNode.insertBefore(ga, s);
})();

(function(b){(function(a){"__CF"in b&&"DJS"in b.__CF?b.__CF.DJS.push(a):"addEventListener"in b?b.addEventListener("load",a,!1):b.attachEvent("onload",a)})(function(){"FB"in b&&"Event"in FB&&"subscribe"in FB.Event&&(FB.Event.subscribe("edge.create",function(a){_gaq.push(["_trackSocial","facebook","like",a])}),FB.Event.subscribe("edge.remove",function(a){_gaq.push(["_trackSocial","facebook","unlike",a])}),FB.Event.subscribe("message.send",function(a){_gaq.push(["_trackSocial","facebook","send",a])}));"twttr"in b&&"events"in twttr&&"bind"in twttr.events&&twttr.events.bind("tweet",function(a){if(a){var b;if(a.target&&a.target.nodeName=="IFRAME")a:{if(a=a.target.src){a=a.split("#")[0].match(/[^?=&]+=([^&]*)?/g);b=0;for(var c;c=a[b];++b)if(c.indexOf("url")===0){b=unescape(c.split("=")[1]);break a}}b=void 0}_gaq.push(["_trackSocial","twitter","tweet",b])}})})})(window);
/* ]]> */
</script>
</head>

<body class="nbviewer">

  <!-- These are loaded at the top of the body so they are available to
       notebook cells when they are loaded below. -->
  <script src="/static/components/jquery/dist/jquery.min.js?v=e071abda8fe61194711cfc2ab99fe104"></script>
  <script src="/static/components/requirejs/require.js?v=6da8be361b9ee26c5e721e76c6d4afce"></script>
  <script src="/static/components/moment/min/moment.min.js?v=89f87298ad94aa1e6b92f42eb66da043"></script>

<!-- Navbar
================================================== -->
  <nav id="menubar" class="navbar navbar-default navbar-fixed-top" data-spy="affix">
    <div class="container">
      <div class="navbar-header">
        <button type="button" class="navbar-toggle collapsed" data-toggle="collapse" data-target=".navbar-collapse">
          <span class="sr-only">Toggle navigation</span>
          <i class="fa fa-bars"></i>
        </button>
        <a class="navbar-brand" href="/">
          <img src="/static/img/nav_logo.svg?v=479cefe8d932fb14a67b93911b97d70f" width="159"/>
        </a>
      </div>

      <div class="collapse navbar-collapse">
        <ul class="nav navbar-nav navbar-right">
          <li>
            <a class="active" href="http://jupyter.org">JUPYTER</a>
          </li>
          <li>
    <a href="/faq" title="FAQ" >
      
        <span>FAQ</span>
      
    </a>
  </li>

          
  
    
      
        <li>
    <a href="/format/script/gist/alexlib/4169038/hardy_cross_pipe_network.ipynb" title="View as Code" >
      <span class="fa fa- fa-2x menu-icon"></span>
      <span class="menu-text">View as Code</span>
    </a>
  </li>
      
    
  
    
  

  

  
    <li>
    <a href="https://gist.github.com/4169038" title="View on Gist" >
      <span class="fa fa-github-square fa-2x menu-icon"></span>
      <span class="menu-text">View on Gist</span>
    </a>
  </li>
  

  <li>
    <a href="https://gist.githubusercontent.com/alexlib/4169038/raw/de8968bcffe175c39a5788ac9eca0b0f19dbca63/hardy_cross_pipe_network.ipynb" title="Download Notebook" download>
      <span class="fa fa-download fa-2x menu-icon"></span>
      <span class="menu-text">Download Notebook</span>
    </a>
  </li>

        </ul>
      </div><!-- /.navbar-collapse -->
      
      
    </div>
  </nav>

  <div class="container container-main">
    
  
  <div id="notebook">
    <div id="notebook-container">
      
<div class="cell border-box-sizing code_cell rendered">
<div class="input">
<div class="prompt input_prompt">In&nbsp;[1]:</div>
<div class="inner_cell">
    <div class="input_area">
<div class=" highlight hl-ipython3"><pre><span></span><span class="sd">&quot;&quot;&quot;</span>
<span class="sd">Implementation of the Hardy-Cross relaxation solution of the pipeline network, </span>
<span class="sd">given in the following example:</span>
<span class="sd">     (2)</span>
<span class="sd">A------------B</span>
<span class="sd">|          / |</span>
<span class="sd">|         /  |</span>
<span class="sd">|        /   |</span>
<span class="sd">|(1) (3)/ (4)|</span>
<span class="sd">|      /     |</span>
<span class="sd">|     /      |</span>
<span class="sd">|    /       |</span>
<span class="sd">|   /        |</span>
<span class="sd">|  /         |</span>
<span class="sd">| /    (5)   |</span>
<span class="sd">C------------D</span>

<span class="sd">QA = 500 # m**3/h</span>
<span class="sd">QB = 0   # m**3/h</span>
<span class="sd">QC = 0   # m**3/h</span>
<span class="sd">QD = -500 # m**3/h</span>

<span class="sd">R1 = 0.000298</span>
<span class="sd">R2 = 0.000939</span>
<span class="sd">R3 = 0.00695</span>
<span class="sd">R4 = 0.000349</span>
<span class="sd">R5 = 0.000298</span>

<span class="sd">&quot;&quot;&quot;</span>

<span class="c1"># import all the numerical library, replaces Matlab</span>
<span class="kn">from</span> <span class="nn">numpy</span> <span class="k">import</span> <span class="o">*</span> 


<span class="c1"># Initial conditions:</span>
<span class="n">QA</span> <span class="o">=</span> <span class="mi">500</span> <span class="c1"># m**3/h</span>
<span class="n">QB</span> <span class="o">=</span> <span class="mi">0</span>   <span class="c1"># m**3/h</span>
<span class="n">QC</span> <span class="o">=</span> <span class="mi">0</span>   <span class="c1"># m**3/h</span>
<span class="n">QD</span> <span class="o">=</span> <span class="o">-</span><span class="mi">500</span> <span class="c1"># m**3/h</span>

<span class="c1"># array is like a vector in Matlab</span>
<span class="n">L</span> <span class="o">=</span> <span class="n">array</span><span class="p">([</span><span class="mi">2</span><span class="p">,</span><span class="mi">3</span><span class="p">,</span><span class="mi">3</span><span class="p">,</span><span class="mi">2</span><span class="p">,</span><span class="mi">3</span><span class="p">],</span><span class="n">dtype</span><span class="o">=</span><span class="s1">&#39;f&#39;</span><span class="p">)</span> <span class="c1"># Length in km, &#39;f&#39; means &#39;float&#39;</span>
<span class="n">D</span> <span class="o">=</span> <span class="n">array</span><span class="p">([</span><span class="mi">25</span><span class="p">,</span><span class="mi">20</span><span class="p">,</span><span class="mi">20</span><span class="p">,</span><span class="mi">15</span><span class="p">,</span><span class="mi">20</span><span class="p">],</span><span class="n">dtype</span><span class="o">=</span><span class="s1">&#39;f&#39;</span><span class="p">)</span> <span class="c1"># Diameter, cm</span>
<span class="n">C</span> <span class="o">=</span> <span class="n">array</span><span class="p">([</span><span class="mi">100</span><span class="p">,</span><span class="mi">110</span><span class="p">,</span><span class="mi">120</span><span class="p">,</span><span class="mi">130</span><span class="p">,</span><span class="mi">120</span><span class="p">],</span><span class="n">dtype</span><span class="o">=</span><span class="s1">&#39;f&#39;</span><span class="p">)</span> <span class="c1"># Hazen Williams friction coefficient</span>
 

<span class="c1"># resistance as a single line function that receives C, D, L and returns R</span>
<span class="n">r</span> <span class="o">=</span> <span class="k">lambda</span> <span class="n">L</span><span class="p">,</span><span class="n">D</span><span class="p">,</span><span class="n">C</span><span class="p">:</span> <span class="n">L</span><span class="o">*</span><span class="mf">1.526e7</span><span class="o">/</span><span class="p">(</span><span class="n">C</span><span class="o">**</span><span class="mf">1.852</span><span class="o">*</span><span class="n">D</span><span class="o">**</span><span class="mf">4.87</span><span class="p">)</span>

<span class="n">R</span> <span class="o">=</span> <span class="n">r</span><span class="p">(</span><span class="n">L</span><span class="p">,</span><span class="n">D</span><span class="p">,</span><span class="n">C</span><span class="p">)</span>
<span class="nb">print</span> <span class="s2">&quot;Resistances: &quot;</span><span class="p">,</span> <span class="n">R</span>

<span class="c1"># Multiline definition of a function</span>
<span class="c1"># starts with def name of the function and inputs in parentheses</span>
<span class="c1"># next line is with indentation: 4 spaces or a TAB</span>
<span class="c1"># ends with the &quot;return&quot; and the list of outputs</span>
<span class="c1"># see the following example</span>

<span class="c1">#def resistance(L,d,c):</span>
<span class="c1">#    r = 1.526e7/(c**1.852*d**4.87)*L</span>
<span class="c1">#    return r           </span>


<span class="c1"># head loss as a function</span>
<span class="c1"># note that one cannot raise a negative value to the power of 1.852</span>

<span class="n">hf</span> <span class="o">=</span> <span class="k">lambda</span> <span class="n">R</span><span class="p">,</span><span class="n">Q</span><span class="p">:</span> <span class="n">R</span><span class="o">*</span><span class="n">sign</span><span class="p">(</span><span class="n">Q</span><span class="p">)</span><span class="o">*</span><span class="n">power</span><span class="p">(</span><span class="nb">abs</span><span class="p">(</span><span class="n">Q</span><span class="p">),</span><span class="mf">1.852</span><span class="p">)</span>



<span class="c1"># define branches - each row contains numbers of pipes:</span>
<span class="n">branch</span> <span class="o">=</span> <span class="n">array</span><span class="p">([[</span><span class="mi">2</span><span class="p">,</span><span class="mi">3</span><span class="p">,</span><span class="mi">1</span><span class="p">],[</span><span class="mi">3</span><span class="p">,</span><span class="mi">4</span><span class="p">,</span><span class="mi">5</span><span class="p">]])</span><span class="o">-</span><span class="mi">1</span> <span class="c1"># Python counts from zero, not 1, the first pipe will be (0)</span>

<span class="n">rows</span><span class="p">,</span><span class="n">cols</span> <span class="o">=</span> <span class="n">branch</span><span class="o">.</span><span class="n">shape</span> <span class="c1"># rows = num of branches, cols = pipes in each</span>


<span class="c1"># initial guess that </span>
<span class="n">Q</span> <span class="o">=</span> <span class="n">array</span><span class="p">([</span><span class="o">-</span><span class="mi">250</span><span class="p">,</span> <span class="mf">250.0</span><span class="p">,</span> <span class="mf">0.0</span><span class="p">,</span> <span class="mi">250</span><span class="p">,</span> <span class="o">-</span><span class="mf">250.0</span><span class="p">])</span> <span class="c1"># m**3/hr</span>

<span class="n">dQ</span> <span class="o">=</span> <span class="mf">1.0</span>

<span class="c1"># main loop</span>
<span class="k">while</span> <span class="nb">abs</span><span class="p">(</span><span class="n">dQ</span><span class="p">)</span> <span class="o">&gt;</span> <span class="mf">0.5</span><span class="p">:</span>
    <span class="c1"># arange(N) gives a vector from 0 to N-1, i.e. arange(3) = 0,1,2</span>
	<span class="k">for</span> <span class="n">i</span> <span class="ow">in</span> <span class="n">arange</span><span class="p">(</span><span class="n">rows</span><span class="p">):</span>
                <span class="c1"># estimate the losses in each pipe</span>
		<span class="n">y</span> <span class="o">=</span> <span class="n">hf</span><span class="p">(</span><span class="n">R</span><span class="p">,</span><span class="n">Q</span><span class="p">)</span> 
		

		<span class="n">yq</span> <span class="o">=</span> <span class="nb">abs</span><span class="p">(</span><span class="mf">1.852</span><span class="o">*</span><span class="n">y</span><span class="o">/</span><span class="nb">abs</span><span class="p">(</span><span class="n">Q</span><span class="p">))</span>
                
                <span class="c1"># Remove NaNs for the exceptional cases</span>
		<span class="n">yq</span><span class="p">[</span><span class="n">isnan</span><span class="p">(</span><span class="n">yq</span><span class="p">)]</span> <span class="o">=</span> <span class="mf">0.0</span>
		
		<span class="c1"># for the first branch</span>
		<span class="c1"># Sum is a sum :)</span>
		<span class="n">sumyq</span> <span class="o">=</span> <span class="nb">sum</span><span class="p">(</span><span class="n">yq</span><span class="p">[</span><span class="n">branch</span><span class="p">[</span><span class="n">i</span><span class="p">,:]])</span>
		<span class="n">sumy</span> <span class="o">=</span> <span class="nb">sum</span><span class="p">(</span><span class="n">y</span><span class="p">[</span><span class="n">branch</span><span class="p">[</span><span class="n">i</span><span class="p">,:]])</span>
		
                <span class="c1"># Estimate the correction dQ for the next step:</span>
		<span class="n">dQ</span> <span class="o">=</span> <span class="o">-</span><span class="mi">1</span><span class="o">*</span><span class="n">sumy</span><span class="o">/</span><span class="n">sumyq</span>

		<span class="nb">print</span><span class="p">(</span><span class="s2">&quot;dQ = </span><span class="si">%f</span><span class="s2">&quot;</span> <span class="o">%</span> <span class="n">dQ</span><span class="p">)</span>
		
                <span class="c1"># += is equal to Q = Q + dQ</span>
		<span class="n">Q</span><span class="p">[</span><span class="n">branch</span><span class="p">[</span><span class="n">i</span><span class="p">,:]]</span> <span class="o">+=</span> <span class="n">dQ</span>
		

<span class="nb">print</span><span class="p">(</span><span class="s2">&quot;Discharges [m^3/hr]:</span><span class="se">\n</span><span class="s2">&quot;</span><span class="p">)</span>
<span class="nb">print</span> <span class="n">Q</span>

<span class="c1"># we&#39;re looking for equivalent pipe solution with:</span>
<span class="c1"># Deq = 25 # cm</span>
<span class="c1"># Ceq = 120 # </span>

<span class="c1"># y = hf(R[1],Q[1])+hf(R[2],Q[2])</span>

<span class="c1"># Leq = y/(r(1,25,120)*Q[0]**1.852)</span>

<span class="c1"># Leq = Leq + L[0] + L[6]*(120/C[6])**1.852</span>

<span class="c1"># print(&quot;Equivalent length = %3.2f km&quot; % Leq)</span>
</pre></div>

</div>
</div>
</div>

<div class="output_wrapper">
<div class="output">


<div class="output_area"><div class="prompt"></div>
<div class="output_subarea output_stream output_stdout output_text">
<pre>Resistances:  [ 0.00093889  0.00349946  0.00297863  0.0069502   0.00297863]
dQ = -77.877620
dQ = -44.395536
dQ = 14.902768
dQ = -2.315951
dQ = 0.672938
dQ = -0.092987
Discharges [m^3/hr]:

[-312.30191449  187.69808551 -109.10638868  203.19552581 -296.80447419]</pre>
</div>
</div>

<div class="output_area"><div class="prompt"></div>
<div class="output_subarea output_stream output_stderr output_text">
<pre>-c:90: RuntimeWarning: invalid value encountered in divide
-c:90: RuntimeWarning: invalid value encountered in absolute</pre>
</div>
</div>

</div>
</div>

</div>
 


    </div>
  </div>

  </div>


  
    <footer class="footer hidden-print">
      <div class="container">
        <div class="col-md-4">
          <p>
            This website does not host notebooks, it only renders notebooks
            available on other websites.
          </p>
        </div>

        <div class="col-md-4">
          <p>
            Delivered by <a href="http://www.fastly.com/">Fastly</a>,
            Rendered by <a href="https://developer.rackspace.com/?nbviewer=awesome">Rackspace</a>
          </p>
          <p>
            nbviewer GitHub <a href="https://github.com/jupyter/nbviewer">repository</a>.
          </p>
        </div>

        <div class="col-md-4">
          
  
            
              <p>
                nbviewer version:
                <a href="https://github.com/jupyter/nbviewer/commit/b5359ba07905c50c2021266b08f984d69653f45e">
                  b5359ba
                </a>
              </p>
            
          
  
  <p>
    nbconvert version: <a href="https://github.com/jupyter/nbconvert/releases/tag/4.3.0">
      4.3.0
    </a>
  </p>
  

          
  
  
  <p>
    Rendered
    <span class='date' data-date='Wed, 15 Feb 2017 21:09:51 UTC' title='Wed, 15 Feb 2017 21:09:51 UTC'>(Wed, 15 Feb 2017 21:09:51 UTC)</span>
  </p>
  

        </div>
      </div>
    </footer>
  

  <script src="https://unpkg.com/jupyter-js-widgets@2.0.*/dist/embed.js"></script>
  <script src="/static/components/bootstrap/js/bootstrap.min.js?v=5869c96cc8f19086aee625d670d741f9"></script>
  <script src="/static/components/headroom.js/dist/headroom.min.js?v=b0a311ea668f8e768ea375f4a7abb81c"></script>
  <script src="/static/components/headroom.js/dist/jQuery.headroom.min.js?v=f3a1bae118315d0c234afc74dc6aab71"></script>

  
  
  <script>
    $(function(){ $("#menubar").headroom({
      tolerance: 5,
      offset: 205,
      classes: {
        initial: "animated",
        pinned: "slideInDown",
        unpinned: "slideOutUp"
      }
    })});
  </script>


  <script>
    (function(i,s,o,g,r,a,m){i['GoogleAnalyticsObject']=r;i[r]=i[r]||function(){
      (i[r].q=i[r].q||[]).push(arguments)},i[r].l=1*new Date();a=s.createElement(o),
      m=s.getElementsByTagName(o)[0];a.async=1;a.src=g;m.parentNode.insertBefore(a,m)
    })(window,document,'script','//www.google-analytics.com/analytics.js','ga');
    ga('create', 'UA-38683231-2', 'auto');
    ga('send', 'pageview');
  </script>
  <script>
    require({
        paths: {
          moment: "/static/components/moment/min/moment.min.js?v=89f87298ad94aa1e6b92f42eb66da043"
        }
      }, ["moment"], function(moment){
      var date = $("footer .date"),
        m = moment(new Date(date.data('date'))),
        update = function(){ date.text(m.fromNow()); };
      setInterval(update, 61*1000);
      update();
      var w = $(window).scroll(function(event){
        $("body").toggleClass("scrolled", w.scrollTop() > 0);
      });
    });
  </script>
  <!--NEW RELIC Stop Perf Measurement-->
  
  <!--NEW RELIC End-->
</body>
</html>