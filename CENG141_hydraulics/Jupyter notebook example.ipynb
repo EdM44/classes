{
 "cells": [
  {
   "cell_type": "markdown",
   "metadata": {},
   "source": [
    "This is a sample script that illustrates some potentially useful ways to use python in a Jupyter notebook to work on this lab, and perhaps others. If you want more information on any of these techniques, or are curious how this could be made more detailed, google is your friend. Or bing. There is a wealth of information out there, and python (and notebooks) are becoming very popular.\n",
    "\n",
    "A good practice is to start with %matplotlib inline so graphics appear as you create them. Other packages that are needed should generally be imported at the top too. Remember {shift}-{enter} executes the cell and creates a new one below (or you can use the menus and icons above).\n",
    "\n",
    "Note that by default a new cell is for \"Code\", as indicated above. Changing that to \"Markdown\" allows you to enter text, images, and equations to document your work flow. Other options are available too, but these are the two used in this example. You can double-click on any cell to see the markdown text that was entered before execulting the cell (Markdown cells also need to be executed)."
   ]
  },
  {
   "cell_type": "code",
   "execution_count": 2,
   "metadata": {
    "collapsed": true
   },
   "outputs": [],
   "source": [
    "%matplotlib inline\n",
    "from math import log, log10\n",
    "import matplotlib.pyplot as plt\n",
    "import numpy as np\n",
    "from scipy.optimize import root"
   ]
  },
  {
   "cell_type": "markdown",
   "metadata": {},
   "source": [
    "In open-channel hydraulics, a typical channel is trapezoidal in cross-section, as shown below. "
   ]
  },
  {
   "cell_type": "markdown",
   "metadata": {},
   "source": [
    "![Trapezoidal channel](trapezoid.png)"
   ]
  },
  {
   "cell_type": "markdown",
   "metadata": {},
   "source": [
    "For a given flow, Q, the depth, y can take different values. One important depth is one called critical depth. For a simple example where b=3 m and z=2, the relationship is given by: $$\\frac {Q}{\\sqrt{g}} \\sqrt{3+4y} = [(3+2y)y]^{3/2} $$"
   ]
  },
  {
   "cell_type": "markdown",
   "metadata": {},
   "source": [
    "The above equation can be rewritten as $$\\frac {[(3+2y)y]^{3/2}} {\\sqrt{3+4y}} - \\frac {Q}{\\sqrt{g}} = 0$$"
   ]
  },
  {
   "cell_type": "markdown",
   "metadata": {},
   "source": [
    "This can be solved by estimating sets of values and slowly converging on a solution, similar to an implicit equation. Fortunately solvers can be employed. A good first step is to set up a function to solve the equation."
   ]
  },
  {
   "cell_type": "code",
   "execution_count": 3,
   "metadata": {
    "collapsed": true
   },
   "outputs": [],
   "source": [
    "def sp_energy(y,Q,g):\n",
    "    zero = (((3+2*y)*y)**1.5)/(np.sqrt(3+4*y)) - Q/np.sqrt(g)\n",
    "    return zero"
   ]
  },
  {
   "cell_type": "markdown",
   "metadata": {},
   "source": [
    "This function can then be called using a root-finding function to return the zero (or zeros) of the equation. In this example Q = 10 $m^3/s$ and using g=9.81 $m/s^2$"
   ]
  },
  {
   "cell_type": "code",
   "execution_count": 6,
   "metadata": {},
   "outputs": [
    {
     "name": "stdout",
     "output_type": "stream",
     "text": [
      "    fjac: array([[-1.]])\n",
      "     fun: array([  1.82076576e-14])\n",
      " message: 'The solution converged.'\n",
      "    nfev: 7\n",
      "     qtf: array([ -8.70871286e-09])\n",
      "       r: array([-6.63690686])\n",
      "  status: 1\n",
      " success: True\n",
      "       x: array([ 0.85550107])\n",
      "\n",
      "Critical flow depth = 0.856 meters\n"
     ]
    }
   ],
   "source": [
    "Q=10.0\n",
    "g=9.81\n",
    "#the first argument of the function is what will be solved for. \n",
    "#The root function returns \"x\" as an array of solutions. \n",
    "ycrit=root(sp_energy,1.0,args=(Q,g))\n",
    "print ycrit\n",
    "print\n",
    "print \"Critical flow depth = %.3f meters\" % (ycrit.x[0])"
   ]
  },
  {
   "cell_type": "markdown",
   "metadata": {},
   "source": [
    "As another example, to plot how this critical depth varies with depth:"
   ]
  },
  {
   "cell_type": "code",
   "execution_count": 27,
   "metadata": {},
   "outputs": [
    {
     "data": {
      "image/png": "[encoded data removed]",
      "text/plain": [
       "<matplotlib.figure.Figure at 0x10d5c6090>"
      ]
     },
     "metadata": {},
     "output_type": "display_data"
    }
   ],
   "source": [
    "Qs=np.arange(0.5,20.0,0.1)\n",
    "ycrits=[(root(sp_energy,1.0,args=(Q,g))).x[0] for Q in Qs]\n",
    "\n",
    "plt.plot(Qs, ycrits)\n",
    "plt.xlabel('Flow ($m^3/s$)')\n",
    "plt.ylabel('Critical Depth (m)')\n",
    "plt.title('Sample Plot')\n",
    "plt.grid(True)\n",
    "#plt.savefig(\"test.png\")\n",
    "plt.show()"
   ]
  },
  {
   "cell_type": "markdown",
   "metadata": {
    "collapsed": true
   },
   "source": [
    "Making attractive, informative plots is an essential skill. Spend the time to explore how to add multiple lines, specify lines or point styles, add legends, and so on. A good starting point is https://matplotlib.org/gallery.html"
   ]
  },
  {
   "cell_type": "code",
   "execution_count": null,
   "metadata": {
    "collapsed": true
   },
   "outputs": [],
   "source": []
  }
 ],
 "metadata": {
  "kernelspec": {
   "display_name": "Python 2",
   "language": "python",
   "name": "python2"
  },
  "language_info": {
   "codemirror_mode": {
    "name": "ipython",
    "version": 2
   },
   "file_extension": ".py",
   "mimetype": "text/x-python",
   "name": "python",
   "nbconvert_exporter": "python",
   "pygments_lexer": "ipython2",
   "version": "2.7.13"
  }
 },
 "nbformat": 4,
 "nbformat_minor": 1
}
